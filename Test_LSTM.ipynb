{
  "nbformat": 4,
  "nbformat_minor": 0,
  "metadata": {
    "colab": {
      "name": "Test_LSTM.ipynb",
      "version": "0.3.2",
      "provenance": [],
      "collapsed_sections": []
    },
    "kernelspec": {
      "name": "python2",
      "display_name": "Python 2"
    },
    "accelerator": "GPU"
  },
  "cells": [
    {
      "metadata": {
        "id": "YABNSyx3Au0u",
        "colab_type": "text"
      },
      "cell_type": "markdown",
      "source": [
        "#Overview\n",
        "Neural networks are universal function approximators. As the word \"universal\" is all-encompassing, we should be able to implement a simple \"sum\" function that takes an arbitrary number of arguments and returns the summation as follows:\n",
        "\n",
        "$$\\text{sum}(x_1,x_2,x_3,\\dots,x_n) = x_1+x_2+x_3+\\dots+x_n$$\n",
        "\n",
        "We'll implement this function using an LSTM. \n",
        "\n",
        "This ipython notebook is designed to be compatible with Google Collaboratory (https://colab.research.google.com/) which gives you completely free access to GPU's."
      ]
    },
    {
      "metadata": {
        "id": "LQgy3k5H9dqS",
        "colab_type": "text"
      },
      "cell_type": "markdown",
      "source": [
        "#Preparation\n",
        "##Uploading or Using Notebook\n",
        "You need to signup and apply for access before you can start using Google Colab.\n",
        "Once you have access, you can either upload this notebook directly to collaboratory using File → Upload Notebook or simply open a new notebook and enter the codes in the cells.\n",
        "##Activating GPU\n",
        "To enable GPU backend for your notebook, go to Edit → Notebook Settings and set Hardware accelerator to GPU.\n"
      ]
    },
    {
      "metadata": {
        "id": "m2_ZIRlA9yrq",
        "colab_type": "text"
      },
      "cell_type": "markdown",
      "source": [
        "##Installing Pytorch\n",
        "We are going to use pytorch for tensor operations in GPU. Install pytorch using the following command. Doing it once is sufficient for a session."
      ]
    },
    {
      "metadata": {
        "id": "IV-EO8xCVpUu",
        "colab_type": "code",
        "outputId": "8bb65512-16d4-43ea-af84-3f0585ced04c",
        "colab": {
          "base_uri": "https://localhost:8080/",
          "height": 34
        }
      },
      "cell_type": "code",
      "source": [
        "# http://pytorch.org/\n",
        "!pip install torch\n"
      ],
      "execution_count": 9,
      "outputs": [
        {
          "output_type": "stream",
          "text": [
            "Requirement already satisfied: torch in /usr/local/lib/python2.7/dist-packages (0.4.1)\n"
          ],
          "name": "stdout"
        }
      ]
    },
    {
      "metadata": {
        "id": "KLLedfsuZrmQ",
        "colab_type": "text"
      },
      "cell_type": "markdown",
      "source": [
        "#Import required modules\n",
        "These are the modules necessary to implement a Long-Short Term Memory (LSTM) network in pyTorch."
      ]
    },
    {
      "metadata": {
        "id": "3STKWWdPZqnv",
        "colab_type": "code",
        "colab": {}
      },
      "cell_type": "code",
      "source": [
        "import torch\n",
        "from torch.autograd import Variable\n",
        "import torch.nn as nn\n",
        "import torch.nn.functional as F\n",
        "import torch.optim as optim\n",
        "import numpy as np\n",
        "import matplotlib.pyplot as plt"
      ],
      "execution_count": 0,
      "outputs": []
    },
    {
      "metadata": {
        "id": "F64WJonBaAwS",
        "colab_type": "text"
      },
      "cell_type": "markdown",
      "source": [
        "#Define the LSTM from Basic Equations\n",
        "To learn more on how LSTM works, [follow this link](http://colah.github.io/posts/2015-08-Understanding-LSTMs/).\n",
        "We are defining a single layer LSTM with only one dimensional neurons. It can be modified in future."
      ]
    },
    {
      "metadata": {
        "id": "zxNVxWtqahoA",
        "colab_type": "code",
        "colab": {}
      },
      "cell_type": "code",
      "source": [
        "class LSTM(nn.Module):\n",
        "    def __init__(self):\n",
        "        super(LSTM,self).__init__()\n",
        "        self.W_xi = nn.Linear(1,1)\n",
        "        self.W_hi = nn.Linear(1,1)\n",
        "        self.W_xf = nn.Linear(1,1)\n",
        "        self.W_hf = nn.Linear(1,1)\n",
        "        self.W_xg = nn.Linear(1,1)\n",
        "        self.W_hg = nn.Linear(1,1)\n",
        "        self.W_xo = nn.Linear(1,1)\n",
        "        self.W_ho = nn.Linear(1,1)\n",
        "\n",
        "    def forward(self,x,h,c):\n",
        "        i = torch.sigmoid(self.W_xi(x) + self.W_hi(h))\n",
        "        f = torch.sigmoid(self.W_xf(x) + self.W_hf(h))\n",
        "        g = F.relu(self.W_xg(x) + self.W_hg(h))\n",
        "        o = F.sigmoid(self.W_xo(x)+self.W_ho(h))\n",
        "        c_ = f*c + i*g\n",
        "        h_ = o * F.relu(c_)\n",
        "        return h_,c_"
      ],
      "execution_count": 0,
      "outputs": []
    },
    {
      "metadata": {
        "id": "ARn0zB_3al3X",
        "colab_type": "text"
      },
      "cell_type": "markdown",
      "source": [
        "#Initialize the Model and the Optimizer"
      ]
    },
    {
      "metadata": {
        "id": "5c6q-daFbEjh",
        "colab_type": "code",
        "colab": {}
      },
      "cell_type": "code",
      "source": [
        "model = LSTM()\n",
        "optimizer = optim.Adam(model.parameters(),lr=0.003)"
      ],
      "execution_count": 0,
      "outputs": []
    },
    {
      "metadata": {
        "id": "LMHO6o8AbTcB",
        "colab_type": "text"
      },
      "cell_type": "markdown",
      "source": [
        "# Train the model\n",
        "Well, in this step, we'll train our single layer, one unit LSTM to sum a series. This is done by five thousand iterations. It will take a while to finish."
      ]
    },
    {
      "metadata": {
        "id": "3ukVYpb2bk_X",
        "colab_type": "code",
        "colab": {}
      },
      "cell_type": "code",
      "source": [
        "loss_list=[]\n",
        "for i in range(10000):\n",
        "    inp = np.random.rand(4)*100.\n",
        "    h = Variable(torch.Tensor([[0.]]))\n",
        "    c = Variable(torch.Tensor([[0.]]))\n",
        "    output = Variable(torch.Tensor([[float(inp.sum())]]))\n",
        "    model.zero_grad()\n",
        "    for j in inp.tolist():\n",
        "        inp = Variable(torch.Tensor([[j]]))\n",
        "        h,c = model(inp,h,c)\n",
        "    loss = (h-output)**2.\n",
        "    loss_list.append(loss.data.numpy()[0][0])\n",
        "    loss.backward()\n",
        "    optimizer.step()"
      ],
      "execution_count": 0,
      "outputs": []
    },
    {
      "metadata": {
        "id": "Ybqvixh4c7h4",
        "colab_type": "text"
      },
      "cell_type": "markdown",
      "source": [
        "#View the Loss\n",
        "Let's try to understand how well the network is trined by having a peek into the loss function."
      ]
    },
    {
      "metadata": {
        "id": "FJL5a0-5dOPw",
        "colab_type": "code",
        "outputId": "5f7bedb0-0125-45e9-bc89-1846afa85798",
        "colab": {
          "base_uri": "https://localhost:8080/",
          "height": 361
        }
      },
      "cell_type": "code",
      "source": [
        "plt.semilogy(loss_list)\n",
        "plt.xlabel('Iterations')\n",
        "plt.ylabel('Loss')\n",
        "plt.show()"
      ],
      "execution_count": 14,
      "outputs": [
        {
          "output_type": "display_data",
          "data": {
            "image/png": "[encoded data removed]",
            "text/plain": [
              "<matplotlib.figure.Figure at 0x7f6711c1d910>"
            ]
          },
          "metadata": {
            "tags": []
          }
        }
      ]
    },
    {
      "metadata": {
        "id": "3TEUZZiueqCc",
        "colab_type": "text"
      },
      "cell_type": "markdown",
      "source": [
        "Looks like the loss is reducing with an interesting pattern. Anyway, let's move forward and check what the network learned exactly. We define this testing function to test the output of the network for an input sequence."
      ]
    },
    {
      "metadata": {
        "id": "1ydAthPEere6",
        "colab_type": "code",
        "colab": {}
      },
      "cell_type": "code",
      "source": [
        "def test(inp,model):\n",
        "    h = Variable(torch.Tensor([[0.]]))\n",
        "    c = Variable(torch.Tensor([[0.]]))\n",
        "    for i in inp:\n",
        "        h,c = model(Variable(torch.Tensor([[i]])),h,c)\n",
        "    print '=================================='\n",
        "    print 'input:',inp\n",
        "    print 'model output:',h.data[0][0]\n",
        "    print 'True answer should be:',np.sum(inp)"
      ],
      "execution_count": 0,
      "outputs": []
    },
    {
      "metadata": {
        "id": "9FufcfJIe-eh",
        "colab_type": "text"
      },
      "cell_type": "markdown",
      "source": [
        "#Test Cases\n",
        "Let's check the following test cases"
      ]
    },
    {
      "metadata": {
        "id": "uks8kpqBe9gW",
        "colab_type": "code",
        "outputId": "b7336e37-cbeb-41f3-b10a-ecfdd75eb1f4",
        "colab": {
          "base_uri": "https://localhost:8080/",
          "height": 357
        }
      },
      "cell_type": "code",
      "source": [
        "test([1,2,3,4],model)\n",
        "test([1,2,3,4,6,7,10],model)\n",
        "test([10,20],model)\n",
        "test([111,112,113,114],model)\n",
        "test([7,8,9,10],model)"
      ],
      "execution_count": 16,
      "outputs": [
        {
          "output_type": "stream",
          "text": [
            "==================================\n",
            "input: [1, 2, 3, 4]\n",
            "model output: tensor(10.3458)\n",
            "True answer should be: 10\n",
            "==================================\n",
            "input: [1, 2, 3, 4, 6, 7, 10]\n",
            "model output: tensor(34.0467)\n",
            "True answer should be: 33\n",
            "==================================\n",
            "input: [10, 20]\n",
            "model output: tensor(30.4216)\n",
            "True answer should be: 30\n",
            "==================================\n",
            "input: [111, 112, 113, 114]\n",
            "model output: tensor(447.9915)\n",
            "True answer should be: 450\n",
            "==================================\n",
            "input: [7, 8, 9, 10]\n",
            "model output: tensor(34.9142)\n",
            "True answer should be: 34\n"
          ],
          "name": "stdout"
        }
      ]
    },
    {
      "metadata": {
        "id": "h-I0_DkZfm9-",
        "colab_type": "text"
      },
      "cell_type": "markdown",
      "source": [
        "Not too bad, right? What do you think?"
      ]
    }
  ]
}