{
  "nbformat": 4,
  "nbformat_minor": 0,
  "metadata": {
    "colab": {
      "name": "Test_LSTM.ipynb",
      "version": "0.3.2",
      "views": {},
      "default_view": {},
      "provenance": [],
      "collapsed_sections": []
    },
    "kernelspec": {
      "name": "python2",
      "display_name": "Python 2"
    },
    "accelerator": "GPU"
  },
  "cells": [
    {
      "metadata": {
        "id": "LQgy3k5H9dqS",
        "colab_type": "text"
      },
      "cell_type": "markdown",
      "source": [
        "#Preparation\n",
        "##Uploading or Using Notebook\n",
        "You need to signup and apply for access before you can start using Google Colab.\n",
        "Once you have access, you can either upload your own notebook using File → Upload Notebook or simply enter your codes in the cells.\n",
        "##Activating GPU\n",
        "To enable GPU backend for your notebook, go to Edit → Notebook Settings and set Hardware accelerator to GPU.\n"
      ]
    },
    {
      "metadata": {
        "id": "m2_ZIRlA9yrq",
        "colab_type": "text"
      },
      "cell_type": "markdown",
      "source": [
        "##Installing Pytorch\n",
        "We are going to use pytorch for tensor operations in GPU. Install pytorch using the following command. Doing it once is sufficient for a session."
      ]
    },
    {
      "metadata": {
        "id": "IV-EO8xCVpUu",
        "colab_type": "code",
        "colab": {
          "autoexec": {
            "startup": false,
            "wait_interval": 0
          },
          "base_uri": "https://localhost:8080/",
          "height": 139
        },
        "outputId": "ab7ee5b7-fb83-41e0-e515-a41ab91beb22",
        "executionInfo": {
          "status": "ok",
          "timestamp": 1525139578331,
          "user_tz": 240,
          "elapsed": 40974,
          "user": {
            "displayName": "M. Iftekhar Tanveer",
            "photoUrl": "//lh3.googleusercontent.com/-z7ZDRS1RtoA/AAAAAAAAAAI/AAAAAAAApt4/8496vdCuKj8/s50-c-k-no/photo.jpg",
            "userId": "102883633648680003998"
          }
        }
      },
      "cell_type": "code",
      "source": [
        "# http://pytorch.org/\n",
        "!pip install torch\n"
      ],
      "execution_count": 1,
      "outputs": [
        {
          "output_type": "stream",
          "text": [
            "Collecting torch\n",
            "\u001b[?25l  Downloading https://files.pythonhosted.org/packages/df/a4/7f5ec6e9df1bf13f1881353702aa9713fcd997481b26018f35e0be85faf7/torch-0.4.0-cp27-cp27mu-manylinux1_x86_64.whl (484.0MB)\n",
            "\u001b[K    100% |████████████████████████████████| 484.0MB 24kB/s \n",
            "tcmalloc: large alloc 1073750016 bytes == 0x55ecffa8c000 @  0x7fa7137c91c4 0x55eca42930d8 0x55eca437cd5d 0x55eca42a677a 0x55eca42ab462 0x55eca42a3b3a 0x55eca42ab82e 0x55eca42a3b3a 0x55eca42ab82e 0x55eca42a3b3a 0x55eca42ab82e 0x55eca42a3b3a 0x55eca42abe1f 0x55eca42a3b3a 0x55eca42ab82e 0x55eca42a3b3a 0x55eca42ab82e 0x55eca42ab462 0x55eca42ab462 0x55eca42a3b3a 0x55eca42abe1f 0x55eca42ab462 0x55eca42a3b3a 0x55eca42abe1f 0x55eca42a3b3a 0x55eca42abe1f 0x55eca42a3b3a 0x55eca42ab82e 0x55eca42a3b3a 0x55eca42d450f 0x55eca42cf202\n",
            "\u001b[?25hInstalling collected packages: torch\n",
            "Successfully installed torch-0.4.0\n"
          ],
          "name": "stdout"
        }
      ]
    },
    {
      "metadata": {
        "id": "KLLedfsuZrmQ",
        "colab_type": "text"
      },
      "cell_type": "markdown",
      "source": [
        "#Import required modules\n",
        "These are the modules necessary to implement a Long-Short Term Memory (LSTM) network in pyTorch."
      ]
    },
    {
      "metadata": {
        "id": "3STKWWdPZqnv",
        "colab_type": "code",
        "colab": {
          "autoexec": {
            "startup": false,
            "wait_interval": 0
          }
        }
      },
      "cell_type": "code",
      "source": [
        "import torch\n",
        "from torch.autograd import Variable\n",
        "import torch.nn as nn\n",
        "import torch.nn.functional as F\n",
        "import torch.optim as optim\n",
        "import numpy as np\n",
        "import matplotlib.pyplot as plt"
      ],
      "execution_count": 0,
      "outputs": []
    },
    {
      "metadata": {
        "id": "F64WJonBaAwS",
        "colab_type": "text"
      },
      "cell_type": "markdown",
      "source": [
        "#Define the LSTM from Basic Equations\n",
        "To learn more on how LSTM works, [follow this link](http://colah.github.io/posts/2015-08-Understanding-LSTMs/).\n",
        "We are defining a single layer LSTM with only one dimensional neurons. It can be modified in future."
      ]
    },
    {
      "metadata": {
        "id": "zxNVxWtqahoA",
        "colab_type": "code",
        "colab": {
          "autoexec": {
            "startup": false,
            "wait_interval": 0
          }
        }
      },
      "cell_type": "code",
      "source": [
        "class LSTM(nn.Module):\n",
        "    def __init__(self):\n",
        "        super(LSTM,self).__init__()\n",
        "        self.W_xi = nn.Linear(1,1)\n",
        "        self.W_hi = nn.Linear(1,1)\n",
        "        self.W_xf = nn.Linear(1,1)\n",
        "        self.W_hf = nn.Linear(1,1)\n",
        "        self.W_xg = nn.Linear(1,1)\n",
        "        self.W_hg = nn.Linear(1,1)\n",
        "        self.W_xo = nn.Linear(1,1)\n",
        "        self.W_ho = nn.Linear(1,1)\n",
        "\n",
        "    def forward(self,x,h,c):\n",
        "        i = F.sigmoid(self.W_xi(x) + self.W_hi(h))\n",
        "        f = F.sigmoid(self.W_xf(x) + self.W_hf(h))\n",
        "        g = F.relu(self.W_xg(x) + self.W_hg(h))\n",
        "        o = F.sigmoid(self.W_xo(x)+self.W_ho(h))\n",
        "        c_ = f*c + i*g\n",
        "        h_ = o * F.relu(c_)\n",
        "        return h_,c_"
      ],
      "execution_count": 0,
      "outputs": []
    },
    {
      "metadata": {
        "id": "ARn0zB_3al3X",
        "colab_type": "text"
      },
      "cell_type": "markdown",
      "source": [
        "#Initialize the Model and the Optimizer"
      ]
    },
    {
      "metadata": {
        "id": "5c6q-daFbEjh",
        "colab_type": "code",
        "colab": {
          "autoexec": {
            "startup": false,
            "wait_interval": 0
          }
        }
      },
      "cell_type": "code",
      "source": [
        "model = LSTM()\n",
        "optimizer = optim.Adam(model.parameters(),lr=0.003)"
      ],
      "execution_count": 0,
      "outputs": []
    },
    {
      "metadata": {
        "id": "LMHO6o8AbTcB",
        "colab_type": "text"
      },
      "cell_type": "markdown",
      "source": [
        "# Train the model\n",
        "Well, in this step, we'll train our single layer, one unit LSTM to sum a series. This is done by five thousand iterations. It will take a while to finish."
      ]
    },
    {
      "metadata": {
        "id": "3ukVYpb2bk_X",
        "colab_type": "code",
        "colab": {
          "autoexec": {
            "startup": false,
            "wait_interval": 0
          }
        }
      },
      "cell_type": "code",
      "source": [
        "loss_list=[]\n",
        "for i in range(5000):\n",
        "    inp = np.random.rand(4)*100.\n",
        "    h = Variable(torch.Tensor([[0.]]))\n",
        "    c = Variable(torch.Tensor([[0.]]))\n",
        "    output = Variable(torch.Tensor([[float(inp.sum())]]))\n",
        "    model.zero_grad()\n",
        "    for j in inp.tolist():\n",
        "        inp = Variable(torch.Tensor([[j]]))\n",
        "        h,c = model(inp,h,c)\n",
        "    loss = (h-output)**2.\n",
        "    loss_list.append(loss.data.numpy()[0][0])\n",
        "    loss.backward()\n",
        "    optimizer.step()"
      ],
      "execution_count": 0,
      "outputs": []
    },
    {
      "metadata": {
        "id": "Ybqvixh4c7h4",
        "colab_type": "text"
      },
      "cell_type": "markdown",
      "source": [
        "#View the Loss\n",
        "Let's try to understand how well the network is trined by having a peek into the loss function."
      ]
    },
    {
      "metadata": {
        "id": "FJL5a0-5dOPw",
        "colab_type": "code",
        "colab": {
          "autoexec": {
            "startup": false,
            "wait_interval": 0
          },
          "base_uri": "https://localhost:8080/",
          "height": 361
        },
        "outputId": "60727f0d-b77d-49b0-fad5-f3d7b791d6be",
        "executionInfo": {
          "status": "ok",
          "timestamp": 1525140747694,
          "user_tz": 240,
          "elapsed": 748,
          "user": {
            "displayName": "M. Iftekhar Tanveer",
            "photoUrl": "//lh3.googleusercontent.com/-z7ZDRS1RtoA/AAAAAAAAAAI/AAAAAAAApt4/8496vdCuKj8/s50-c-k-no/photo.jpg",
            "userId": "102883633648680003998"
          }
        }
      },
      "cell_type": "code",
      "source": [
        "plt.semilogy(loss_list)\n",
        "plt.xlabel('Iterations')\n",
        "plt.ylabel('Loss')\n",
        "plt.show()"
      ],
      "execution_count": 27,
      "outputs": [
        {
          "output_type": "display_data",
          "data": {
            "image/png": "[encoded data removed]",
            "text/plain": [
              "<matplotlib.figure.Figure at 0x7f4c10f76a50>"
            ]
          },
          "metadata": {
            "tags": []
          }
        }
      ]
    },
    {
      "metadata": {
        "id": "3TEUZZiueqCc",
        "colab_type": "text"
      },
      "cell_type": "markdown",
      "source": [
        "Looks like the loss is reducing with an interesting pattern. Anyway, let's move forward and check what the network learned exactly. We define this testing function to test the output of the network for an input sequence."
      ]
    },
    {
      "metadata": {
        "id": "1ydAthPEere6",
        "colab_type": "code",
        "colab": {
          "autoexec": {
            "startup": false,
            "wait_interval": 0
          }
        }
      },
      "cell_type": "code",
      "source": [
        "def test(inp,model):\n",
        "    h = Variable(torch.Tensor([[0.]]))\n",
        "    c = Variable(torch.Tensor([[0.]]))\n",
        "    for i in inp:\n",
        "        h,c = model(Variable(torch.Tensor([[i]])),h,c)\n",
        "    print '=================================='\n",
        "    print 'input:',inp\n",
        "    print 'model output:',h.data[0][0]\n",
        "    print 'True answer should be:',np.sum(inp)"
      ],
      "execution_count": 0,
      "outputs": []
    },
    {
      "metadata": {
        "id": "9FufcfJIe-eh",
        "colab_type": "text"
      },
      "cell_type": "markdown",
      "source": [
        "#Test Cases\n",
        "Let's check the following test cases"
      ]
    },
    {
      "metadata": {
        "id": "uks8kpqBe9gW",
        "colab_type": "code",
        "colab": {
          "autoexec": {
            "startup": false,
            "wait_interval": 0
          },
          "base_uri": "https://localhost:8080/",
          "height": 357
        },
        "outputId": "f11cff6c-6a73-4894-e9af-f9d7b998b6dc",
        "executionInfo": {
          "status": "ok",
          "timestamp": 1525141093284,
          "user_tz": 240,
          "elapsed": 269,
          "user": {
            "displayName": "M. Iftekhar Tanveer",
            "photoUrl": "//lh3.googleusercontent.com/-z7ZDRS1RtoA/AAAAAAAAAAI/AAAAAAAApt4/8496vdCuKj8/s50-c-k-no/photo.jpg",
            "userId": "102883633648680003998"
          }
        }
      },
      "cell_type": "code",
      "source": [
        "test([1,2,3,4],model)\n",
        "test([1,2,3,4,6,7,10],model)\n",
        "test([10,20],model)\n",
        "test([111,112,113,114],model)\n",
        "test([7,8,9,10],model)"
      ],
      "execution_count": 33,
      "outputs": [
        {
          "output_type": "stream",
          "text": [
            "==================================\n",
            "input: [1, 2, 3, 4]\n",
            "model output: tensor(13.5321)\n",
            "True answer should be: 10\n",
            "==================================\n",
            "input: [1, 2, 3, 4, 6, 7, 10]\n",
            "model output: tensor(48.2001)\n",
            "True answer should be: 33\n",
            "==================================\n",
            "input: [10, 20]\n",
            "model output: tensor(24.7585)\n",
            "True answer should be: 30\n",
            "==================================\n",
            "input: [111, 112, 113, 114]\n",
            "model output: tensor(447.8347)\n",
            "True answer should be: 450\n",
            "==================================\n",
            "input: [7, 8, 9, 10]\n",
            "model output: tensor(37.3908)\n",
            "True answer should be: 34\n"
          ],
          "name": "stdout"
        }
      ]
    },
    {
      "metadata": {
        "id": "h-I0_DkZfm9-",
        "colab_type": "text"
      },
      "cell_type": "markdown",
      "source": [
        "Not too bad, right? What do you think?"
      ]
    }
  ]
}